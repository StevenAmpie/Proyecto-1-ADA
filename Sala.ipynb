{
 "cells": [
  {
   "cell_type": "code",
   "execution_count": 42,
   "metadata": {},
   "outputs": [],
   "source": [
    "# Clase sala\n",
    "from colorama import Fore\n",
    "\n",
    "class Sala:\n",
    "   \n",
    "    \n",
    "    def __init__(self,  num_sala,  peliculas):\n",
    "\n",
    "        self.num_sala= num_sala\n",
    "        self.peliculas = peliculas\n",
    "\n",
    "        self.matriz_sala=(      ('8A','8B', '8C','8D','8E','8F', '8G', '8H', '8I'),\n",
    "                                ('7A','7B', '7C','7D','7E','7F', '7G', '7H', '7I'),\n",
    "                                ('6A','6B', '6C','6D','6E','6F', '6G', '6H', '6I'),\n",
    "                                ('5A','5B', '5C','5D','5E','5F', '5G', '5H', '5I'),\n",
    "                                ('4A','4B', '4C','4D','4E','4F', '4G', '4H', '4I'),\n",
    "                                ('3A','3B', '3C','3D','3E','3F', '3G', '3H', '3I'),\n",
    "                                ('2A','2B', '2C','2D','2E','2F', '2G', '2H', '2I'),\n",
    "                                ('1A','1B', '1C','1D','1E','1F', '1G', '1H', '1I')\n",
    "                            )\n",
    "    \n",
    "        self.matriz_aux=[   [0, 0, 0, 0, 0, 0, 0, 0, 0],\n",
    "                            [0, 0, 0, 0, 0, 0, 0, 0, 0],\n",
    "                            [0, 0, 0, 0, 0, 0, 0, 0, 0],\n",
    "                            [0, 0, 0, 0, 0, 0, 0, 0, 0],\n",
    "                            [0, 0, 0, 0, 0, 0, 0, 0, 0],\n",
    "                            [0, 0, 0, 0, 0, 0, 0, 0, 0],\n",
    "                            [0, 0, 0, 0, 0, 0, 0, 0, 0],\n",
    "                            [0, 0, 0, 0, 0, 0, 0, 0, 0]     ]\n",
    "\n",
    "    \n",
    "    def getSala(self):\n",
    "\n",
    "        print(f'Sala #{self.num_sala}')\n",
    "    \n",
    "    def getPeliculas(self):\n",
    "\n",
    "        print(f'Peliculas de la sala #{self.num_sala} y sus horarios: {self.peliculas}')\n",
    "\n",
    "\n",
    "\n",
    "\n",
    "    def getAsientos(self):\n",
    "        cont=0\n",
    "        for i in range(len(self.matriz_aux)):\n",
    "            for j in self.matriz_aux[i]:\n",
    "                \n",
    "                if(j == 0):\n",
    "                    print(f'{Fore.GREEN} {self.matriz_sala[i][cont]} {Fore.RESET}', end=\" \")\n",
    "                    cont+=1\n",
    "                else:\n",
    "                    print(f'{Fore.RED} {self.matriz_sala[i][cont]} {Fore.RESET}', end=\" \")\n",
    "                    cont+=1\n",
    "            print(\"\\n\")\n",
    "            cont=0\n",
    "\n",
    "       \n",
    "    \n",
    "    def reservar(self, asiento):\n",
    "        \n",
    "\n",
    "        flag = False\n",
    "      \n",
    "        for i in range(len(self.matriz_sala)):\n",
    "\n",
    "            for j in self.matriz_sala[i]:\n",
    "\n",
    "                if (self.matriz_sala[i][self.matriz_sala[i].index(j)] == asiento):\n",
    "\n",
    "                   if (self.matriz_aux[i][self.matriz_sala[i].index(j)] == 0):\n",
    "                        \n",
    "                        self.matriz_aux[i][self.matriz_sala[i].index(j)] = 1\n",
    "                        print(\"Se ha registrado su asiento\\n\")\n",
    "                        #self.getAsientos()\n",
    "                        flag = True\n",
    "                        break\n",
    "                   else:\n",
    "                       print(\"El asiento ya esta reservado\")\n",
    "                       flag = True\n",
    "                       break\n",
    "\n",
    "        if(flag == False):\n",
    "            print(f\"el asiento {asiento} no existe, ingrese un asiento corrrecto\\n\")\n",
    "\n",
    "\n",
    "\n",
    "\n",
    "    def eliminar_reserva(self, asiento):\n",
    "\n",
    "        flag = False\n",
    "      \n",
    "        for i in range(len(self.matriz_sala)):\n",
    "\n",
    "            for j in self.matriz_sala[i]:\n",
    "\n",
    "                if (self.matriz_sala[i][self.matriz_sala[i].index(j)] == asiento):\n",
    "\n",
    "                   if (self.matriz_aux[i][self.matriz_sala[i].index(j)] == 1):\n",
    "                        \n",
    "                        self.matriz_aux[i][self.matriz_sala[i].index(j)] = 0\n",
    "                        print(\"Se ha eliminado la reserva de este asiento\\n\")\n",
    "                        #self.getAsientos()\n",
    "                        flag = True\n",
    "                        break\n",
    "                   else:\n",
    "                       print(\"El asiento ingresado no ha sido reservado\")\n",
    "                       flag = True\n",
    "                       break\n",
    "        if(flag == False):\n",
    "            print(f\"el asiento {asiento} no existe, ingrese un asiento corrrecto\\n\")\n",
    "\n",
    "\n",
    "    \n",
    "\n"
   ]
  },
  {
   "cell_type": "code",
   "execution_count": 43,
   "metadata": {},
   "outputs": [],
   "source": [
    "peliculas={'Spiderman': '7:30 AM', 'Avatar': '10:15 AM', \"Rapidos y furiosos\":'1:25 PM'}\n",
    "sala1=Sala(1, peliculas)"
   ]
  },
  {
   "cell_type": "code",
   "execution_count": 44,
   "metadata": {},
   "outputs": [
    {
     "name": "stdout",
     "output_type": "stream",
     "text": [
      "\u001b[32m 8A \u001b[39m \u001b[32m 8B \u001b[39m \u001b[32m 8C \u001b[39m \u001b[32m 8D \u001b[39m \u001b[32m 8E \u001b[39m \u001b[32m 8F \u001b[39m \u001b[32m 8G \u001b[39m \u001b[32m 8H \u001b[39m \u001b[32m 8I \u001b[39m \n",
      "\n",
      "\u001b[32m 7A \u001b[39m \u001b[32m 7B \u001b[39m \u001b[32m 7C \u001b[39m \u001b[32m 7D \u001b[39m \u001b[32m 7E \u001b[39m \u001b[32m 7F \u001b[39m \u001b[32m 7G \u001b[39m \u001b[32m 7H \u001b[39m \u001b[32m 7I \u001b[39m \n",
      "\n",
      "\u001b[32m 6A \u001b[39m \u001b[32m 6B \u001b[39m \u001b[32m 6C \u001b[39m \u001b[32m 6D \u001b[39m \u001b[32m 6E \u001b[39m \u001b[32m 6F \u001b[39m \u001b[32m 6G \u001b[39m \u001b[32m 6H \u001b[39m \u001b[32m 6I \u001b[39m \n",
      "\n",
      "\u001b[32m 5A \u001b[39m \u001b[32m 5B \u001b[39m \u001b[32m 5C \u001b[39m \u001b[32m 5D \u001b[39m \u001b[32m 5E \u001b[39m \u001b[32m 5F \u001b[39m \u001b[32m 5G \u001b[39m \u001b[32m 5H \u001b[39m \u001b[32m 5I \u001b[39m \n",
      "\n",
      "\u001b[32m 4A \u001b[39m \u001b[32m 4B \u001b[39m \u001b[32m 4C \u001b[39m \u001b[32m 4D \u001b[39m \u001b[32m 4E \u001b[39m \u001b[32m 4F \u001b[39m \u001b[32m 4G \u001b[39m \u001b[32m 4H \u001b[39m \u001b[32m 4I \u001b[39m \n",
      "\n",
      "\u001b[32m 3A \u001b[39m \u001b[32m 3B \u001b[39m \u001b[32m 3C \u001b[39m \u001b[32m 3D \u001b[39m \u001b[32m 3E \u001b[39m \u001b[32m 3F \u001b[39m \u001b[32m 3G \u001b[39m \u001b[32m 3H \u001b[39m \u001b[32m 3I \u001b[39m \n",
      "\n",
      "\u001b[32m 2A \u001b[39m \u001b[32m 2B \u001b[39m \u001b[32m 2C \u001b[39m \u001b[32m 2D \u001b[39m \u001b[32m 2E \u001b[39m \u001b[32m 2F \u001b[39m \u001b[32m 2G \u001b[39m \u001b[32m 2H \u001b[39m \u001b[32m 2I \u001b[39m \n",
      "\n",
      "\u001b[32m 1A \u001b[39m \u001b[32m 1B \u001b[39m \u001b[32m 1C \u001b[39m \u001b[32m 1D \u001b[39m \u001b[32m 1E \u001b[39m \u001b[32m 1F \u001b[39m \u001b[32m 1G \u001b[39m \u001b[32m 1H \u001b[39m \u001b[32m 1I \u001b[39m \n",
      "\n"
     ]
    }
   ],
   "source": [
    "sala1.getAsientos()"
   ]
  },
  {
   "cell_type": "code",
   "execution_count": 45,
   "metadata": {},
   "outputs": [
    {
     "name": "stdout",
     "output_type": "stream",
     "text": [
      "Se ha registrado su asiento\n",
      "\n",
      "Se ha registrado su asiento\n",
      "\n",
      "Se ha registrado su asiento\n",
      "\n",
      "Se ha registrado su asiento\n",
      "\n"
     ]
    }
   ],
   "source": [
    "sala1.reservar('7G')\n",
    "sala1.reservar('2F')\n",
    "sala1.reservar('1D')\n",
    "sala1.reservar('3C')"
   ]
  },
  {
   "cell_type": "code",
   "execution_count": 46,
   "metadata": {},
   "outputs": [
    {
     "name": "stdout",
     "output_type": "stream",
     "text": [
      "\u001b[32m 8A \u001b[39m \u001b[32m 8B \u001b[39m \u001b[32m 8C \u001b[39m \u001b[32m 8D \u001b[39m \u001b[32m 8E \u001b[39m \u001b[32m 8F \u001b[39m \u001b[32m 8G \u001b[39m \u001b[32m 8H \u001b[39m \u001b[32m 8I \u001b[39m \n",
      "\n",
      "\u001b[32m 7A \u001b[39m \u001b[32m 7B \u001b[39m \u001b[32m 7C \u001b[39m \u001b[32m 7D \u001b[39m \u001b[32m 7E \u001b[39m \u001b[32m 7F \u001b[39m \u001b[31m 7G \u001b[39m \u001b[32m 7H \u001b[39m \u001b[32m 7I \u001b[39m \n",
      "\n",
      "\u001b[32m 6A \u001b[39m \u001b[32m 6B \u001b[39m \u001b[32m 6C \u001b[39m \u001b[32m 6D \u001b[39m \u001b[32m 6E \u001b[39m \u001b[32m 6F \u001b[39m \u001b[32m 6G \u001b[39m \u001b[32m 6H \u001b[39m \u001b[32m 6I \u001b[39m \n",
      "\n",
      "\u001b[32m 5A \u001b[39m \u001b[32m 5B \u001b[39m \u001b[32m 5C \u001b[39m \u001b[32m 5D \u001b[39m \u001b[32m 5E \u001b[39m \u001b[32m 5F \u001b[39m \u001b[32m 5G \u001b[39m \u001b[32m 5H \u001b[39m \u001b[32m 5I \u001b[39m \n",
      "\n",
      "\u001b[32m 4A \u001b[39m \u001b[32m 4B \u001b[39m \u001b[32m 4C \u001b[39m \u001b[32m 4D \u001b[39m \u001b[32m 4E \u001b[39m \u001b[32m 4F \u001b[39m \u001b[32m 4G \u001b[39m \u001b[32m 4H \u001b[39m \u001b[32m 4I \u001b[39m \n",
      "\n",
      "\u001b[32m 3A \u001b[39m \u001b[32m 3B \u001b[39m \u001b[31m 3C \u001b[39m \u001b[32m 3D \u001b[39m \u001b[32m 3E \u001b[39m \u001b[32m 3F \u001b[39m \u001b[32m 3G \u001b[39m \u001b[32m 3H \u001b[39m \u001b[32m 3I \u001b[39m \n",
      "\n",
      "\u001b[32m 2A \u001b[39m \u001b[32m 2B \u001b[39m \u001b[32m 2C \u001b[39m \u001b[32m 2D \u001b[39m \u001b[32m 2E \u001b[39m \u001b[31m 2F \u001b[39m \u001b[32m 2G \u001b[39m \u001b[32m 2H \u001b[39m \u001b[32m 2I \u001b[39m \n",
      "\n",
      "\u001b[32m 1A \u001b[39m \u001b[32m 1B \u001b[39m \u001b[32m 1C \u001b[39m \u001b[31m 1D \u001b[39m \u001b[32m 1E \u001b[39m \u001b[32m 1F \u001b[39m \u001b[32m 1G \u001b[39m \u001b[32m 1H \u001b[39m \u001b[32m 1I \u001b[39m \n",
      "\n"
     ]
    }
   ],
   "source": [
    "sala1.getAsientos()"
   ]
  },
  {
   "cell_type": "code",
   "execution_count": 47,
   "metadata": {},
   "outputs": [],
   "source": [
    "#Cartelera\n",
    "### -- el usuario selecciona la pelicula que quiere ver\n",
    "#horarios\n",
    "### -- el usuario selecciona un horario\n",
    "#Reserva\n",
    "###  -- el usuario reserva los asientos que desea\n",
    "#devuelta al menu de inicio\n",
    "### -- el usuario es devuelto al menu de inicio, donde puede ver sus reservas\n",
    "#editar reserva\n",
    "### -- el usuario puede eliminar y agregar una nueva reserva \n"
   ]
  },
  {
   "cell_type": "code",
   "execution_count": 48,
   "metadata": {},
   "outputs": [
    {
     "name": "stdout",
     "output_type": "stream",
     "text": [
      "Haciendo una prueba\n"
     ]
    }
   ],
   "source": [
    "print('Haciendo una prueba')"
   ]
  },
  {
   "cell_type": "code",
   "execution_count": null,
   "metadata": {},
   "outputs": [],
   "source": []
  }
 ],
 "metadata": {
  "kernelspec": {
   "display_name": "base",
   "language": "python",
   "name": "python3"
  },
  "language_info": {
   "codemirror_mode": {
    "name": "ipython",
    "version": 3
   },
   "file_extension": ".py",
   "mimetype": "text/x-python",
   "name": "python",
   "nbconvert_exporter": "python",
   "pygments_lexer": "ipython3",
   "version": "3.11.9"
  }
 },
 "nbformat": 4,
 "nbformat_minor": 2
}
