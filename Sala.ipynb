{
 "cells": [
  {
   "cell_type": "code",
   "execution_count": 15,
   "metadata": {},
   "outputs": [],
   "source": [
    "# Clase sala\n",
    "matriz_sala=(    ('8A','8B', '8C','8D','8E','8F', '8G', '8H', '8I'),\n",
    "                 ('7A','7B', '7C','7D','7E','7F', '7G', '7H', '7I'),\n",
    "                 ('6A','6B', '6C','6D','6E','6F', '6G', '6H', '6I'),\n",
    "                 ('5A','5B', '5C','5D','5E','5F', '5G', '5H', '5I'),\n",
    "                 ('4A','4B', '4C','4D','4E','4F', '4G', '4H', '4I'),\n",
    "                 ('3A','3B', '3C','3D','3E','3F', '3G', '3H', '3I'),\n",
    "                 ('2A','2B', '2C','2D','2E','2F', '2G', '2H', '2I'),\n",
    "                 ('1A','1B', '1C','1D','1E','1F', '1G', '1H', '1I'))\n",
    "    \n",
    "matriz_aux=[    [0, 0, 0, 0, 0, 0, 0, 0, 0],\n",
    "                [0, 0, 0, 0, 0, 0, 0, 0, 0],\n",
    "                [0, 0, 0, 0, 0, 0, 0, 0, 0],\n",
    "                [0, 0, 0, 0, 0, 0, 0, 0, 0],\n",
    "                [0, 0, 0, 0, 0, 0, 0, 0, 0],\n",
    "                [0, 0, 0, 0, 0, 0, 0, 0, 0],\n",
    "                [0, 0, 0, 0, 0, 0, 0, 0, 0],\n",
    "                [0, 0, 0, 0, 0, 0, 0, 0, 0]     ]\n",
    "\n",
    "class Sala:\n",
    "\n",
    "    num_sala=0\n",
    "    peliculas={}\n",
    "    \n",
    "    # global matriz_sala, matriz_aux\n",
    "\n",
    "    \n",
    "    \n",
    "    def __init__(self,  num_sala,  peliculas):\n",
    "\n",
    "        self.num_sala= num_sala\n",
    "        self.peliculas = peliculas\n",
    "\n",
    "\n",
    "\n",
    "\n",
    "    def mostrarMatriz(self):\n",
    "        for i in range(len(matriz_aux)):\n",
    "            for j in matriz_aux[i]:\n",
    "                print(j, end=\" \")\n",
    "\n",
    "            print(\"\\n\")\n",
    "\n",
    "\n",
    "    \n",
    "    def reservar(self, asiento):\n",
    "        \n",
    "\n",
    "        flag = False\n",
    "      \n",
    "        for i in range(len(matriz_sala)):\n",
    "\n",
    "            for j in matriz_sala[i]:\n",
    "\n",
    "                if (matriz_sala[i][matriz_sala[i].index(j)] == asiento):\n",
    "\n",
    "                   if (matriz_aux[i][matriz_sala[i].index(j)] == 0):\n",
    "                        \n",
    "                        matriz_aux[i][matriz_sala[i].index(j)] = 1\n",
    "                        print(\"Se ha registrado su asiento\\n\")\n",
    "                        self.mostrarMatriz()\n",
    "                        flag = True\n",
    "                        break\n",
    "                   else:\n",
    "                       print(\"El asiento ya esta reservado\")\n",
    "                       flag = True\n",
    "                       break\n",
    "        if(flag == False):\n",
    "            print(f\"el asiento {asiento} no existe, ingrese un asiento corrrecto\\n\")\n",
    "\n",
    "\n",
    "\n",
    "\n",
    "    def eliminar_reserva(self, asiento):\n",
    "\n",
    "        flag = False\n",
    "      \n",
    "        for i in range(len(matriz_sala)):\n",
    "\n",
    "            for j in matriz_sala[i]:\n",
    "\n",
    "                if (matriz_sala[i][matriz_sala[i].index(j)] == asiento):\n",
    "\n",
    "                   if (matriz_aux[i][matriz_sala[i].index(j)] == 1):\n",
    "                        \n",
    "                        matriz_aux[i][matriz_sala[i].index(j)] = 0\n",
    "                        print(\"Se ha eliminado la reserva de este asiento\\n\")\n",
    "                        self.mostrarMatriz()\n",
    "                        flag = True\n",
    "                        break\n",
    "                   else:\n",
    "                       print(\"El asiento ingresado no ha sido reservado\")\n",
    "                       flag = True\n",
    "                       break\n",
    "        if(flag == False):\n",
    "            print(f\"el asiento {asiento} no existe, ingrese un asiento corrrecto\\n\")\n",
    "\n",
    "\n",
    "    \n",
    "\n"
   ]
  },
  {
   "cell_type": "code",
   "execution_count": 16,
   "metadata": {},
   "outputs": [],
   "source": [
    "spiderMan={'h1': '7:30', 'h2': '10:30'}\n",
    "sala=Sala(2, spiderMan)"
   ]
  },
  {
   "cell_type": "code",
   "execution_count": 19,
   "metadata": {},
   "outputs": [
    {
     "data": {
      "text/plain": [
       "tuple"
      ]
     },
     "execution_count": 19,
     "metadata": {},
     "output_type": "execute_result"
    }
   ],
   "source": [
    "type(matriz_sala)"
   ]
  },
  {
   "cell_type": "code",
   "execution_count": 46,
   "metadata": {},
   "outputs": [
    {
     "name": "stdout",
     "output_type": "stream",
     "text": [
      "El asiento ya esta reservado\n"
     ]
    }
   ],
   "source": [
    "sala.reservar('8A')"
   ]
  },
  {
   "cell_type": "code",
   "execution_count": 48,
   "metadata": {},
   "outputs": [
    {
     "name": "stdout",
     "output_type": "stream",
     "text": [
      "El asiento ingresado no ha sido reservado\n"
     ]
    }
   ],
   "source": [
    "sala.eliminar_reserva('8A')"
   ]
  },
  {
   "cell_type": "code",
   "execution_count": null,
   "metadata": {},
   "outputs": [],
   "source": []
  }
 ],
 "metadata": {
  "kernelspec": {
   "display_name": "base",
   "language": "python",
   "name": "python3"
  },
  "language_info": {
   "codemirror_mode": {
    "name": "ipython",
    "version": 3
   },
   "file_extension": ".py",
   "mimetype": "text/x-python",
   "name": "python",
   "nbconvert_exporter": "python",
   "pygments_lexer": "ipython3",
   "version": "3.11.9"
  }
 },
 "nbformat": 4,
 "nbformat_minor": 2
}
